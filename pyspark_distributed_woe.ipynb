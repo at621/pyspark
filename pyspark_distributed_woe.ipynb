{
 "cells": [
  {
   "cell_type": "code",
   "execution_count": 4,
   "id": "0a2bdb0a-dc23-4618-a6cb-0f10901bd46d",
   "metadata": {},
   "outputs": [
    {
     "name": "stdout",
     "output_type": "stream",
     "text": [
      "Variable: var1, IV: 3.870, Splits: [-0.43191871 -0.28221758 -0.16728848 -0.02888381  0.03069652  0.14377302\n",
      "  0.22032083  0.35922444  0.51510692]\n",
      "Variable: var10, IV: 0.057, Splits: [0.11854626 0.24119402 0.31879368 0.37129214 0.73273483 0.87061062\n",
      " 0.92411289]\n",
      "Variable: var2, IV: 2.386, Splits: [-0.53381741 -0.378314   -0.24581693 -0.10081048 -0.03216861  0.2386419\n",
      "  0.45663874  0.63207525]\n",
      "Variable: var3, IV: 2.751, Splits: [-0.4505313  -0.33470391 -0.24247514 -0.15137108 -0.07585113  0.1479005\n",
      "  0.21693115  0.36852024]\n",
      "Variable: var4, IV: 3.637, Splits: [-0.16165832 -0.09186092 -0.02178705  0.00238991  0.03475822  0.12112483\n",
      "  0.19900268]\n",
      "Variable: var5, IV: 3.181, Splits: [-0.55031744 -0.31986973 -0.2296852  -0.14298058 -0.07637362  0.23498204\n",
      "  0.3138652   0.46967517]\n",
      "Variable: var6, IV: 0.023, Splits: [0.09464763 0.15141959 0.24033074 0.90484789]\n",
      "Variable: var7, IV: 0.035, Splits: [0.12587149 0.17060392 0.32343714 0.59561449]\n",
      "Variable: var8, IV: 0.033, Splits: [0.3757185  0.51269495 0.5759775  0.85227707 0.94276121]\n",
      "Variable: var9, IV: 0.076, Splits: [0.10931409 0.23872217 0.30109173 0.3597669  0.91622782]\n"
     ]
    }
   ],
   "source": [
    "from pyspark.sql import SparkSession\n",
    "from pyspark import SparkContext\n",
    "from pyspark.sql import Row\n",
    "from optbinning import OptimalBinning\n",
    "import numpy as np\n",
    "import pandas as pd\n",
    "\n",
    "# Initialize SparkSession\n",
    "spark = SparkSession.builder.appName(\"OptBinningExample\").getOrCreate()\n",
    "sc = SparkContext.getOrCreate()\n",
    "\n",
    "# Generate the target variable\n",
    "np.random.seed(42)\n",
    "observations = 1_000\n",
    "target = np.random.randint(0, 2, observations)\n",
    "\n",
    "# Create correlated variables\n",
    "data = pd.DataFrame({\n",
    "    'var1': (target + 0.2) * np.random.randn(observations),\n",
    "    'var2': (target + 0.3) * np.random.randn(observations),\n",
    "    'var3': (-target + 0.2) * np.random.randn(observations),\n",
    "    'var4': (target + 0.1) * np.random.randn(observations),\n",
    "    'var5': (target + 0.25) * np.random.randn(observations),\n",
    "    'var6': np.random.rand(observations),\n",
    "    'var7': np.random.rand(observations),\n",
    "    'var8': np.random.rand(observations),\n",
    "    'var9': np.random.rand(observations),\n",
    "    'var10': np.random.rand(observations),\n",
    "    'target': target\n",
    "})\n",
    "\n",
    "# Broadcast the entire DataFrame (or the necessary portion of it)\n",
    "broadcast_data = sc.broadcast(data.to_dict(orient='list'))\n",
    "\n",
    "def binning_function(var):\n",
    "    # Perform Optimal Binning for a single variable using the full data column\n",
    "    optb = OptimalBinning(name=var, dtype=\"numerical\", solver=\"cp\")\n",
    "    optb.fit(np.array(broadcast_data.value[var]), np.array(broadcast_data.value['target']))\n",
    "\n",
    "    # Get Information Value\n",
    "    binning_table = optb.binning_table\n",
    "    binning_table.build()\n",
    "    iv = binning_table.iv\n",
    "    splits = binning_table.splits\n",
    "    \n",
    "    # Return the results as a dictionary\n",
    "    return {\n",
    "        'variable': var,\n",
    "        'iv': iv,\n",
    "        'splits': splits\n",
    "    }\n",
    "    return optb.splits.tolist()\n",
    "\n",
    "# Map the binning function to each variable (excluding target)\n",
    "binned_results = sc.parallelize(data.columns.difference(['target'])).map(binning_function).collect()\n",
    "\n",
    "# Print the results\n",
    "for result in binned_results:\n",
    "    print(f\"Variable: {result['variable']}, IV: {result['iv']:0.3f}, Splits: {result['splits']}\")"
   ]
  }
 ],
 "metadata": {
  "kernelspec": {
   "display_name": "Python 3 (ipykernel)",
   "language": "python",
   "name": "python3"
  },
  "language_info": {
   "codemirror_mode": {
    "name": "ipython",
    "version": 3
   },
   "file_extension": ".py",
   "mimetype": "text/x-python",
   "name": "python",
   "nbconvert_exporter": "python",
   "pygments_lexer": "ipython3",
   "version": "3.11.9"
  }
 },
 "nbformat": 4,
 "nbformat_minor": 5
}
